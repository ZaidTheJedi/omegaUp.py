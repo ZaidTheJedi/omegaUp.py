{
  "nbformat": 4,
  "nbformat_minor": 0,
  "metadata": {
    "colab": {
      "name": "Cheatsheet curso python.ipynb",
      "provenance": []
    },
    "kernelspec": {
      "name": "python3",
      "display_name": "Python 3"
    }
  },
  "cells": [
    {
      "cell_type": "markdown",
      "metadata": {
        "id": "6n_rsaZCXoNl",
        "colab_type": "text"
      },
      "source": [
        "# Sesión 4: Control de flujo 🚀\n",
        "\n",
        "<img src=\"https://futurelab.mx/images/futurelab-landscape.png\" alt=\"Drawing\" width=\"30%\"/> \\\\\n",
        "Índice:\n",
        "1. Introducción.\n",
        "2. Indentación.\n",
        "3. Operadores relacionales\n",
        "4. Tabla de verdades\n",
        "  1. función AND\n",
        "  2. función OR\n",
        "5. Estructuras de control de flujo condicionales\n",
        "6. Estructuras de control de flujo iterativas\n",
        "\n",
        "\n"
      ]
    },
    {
      "cell_type": "markdown",
      "metadata": {
        "id": "XgYISxzHe7Pt",
        "colab_type": "text"
      },
      "source": [
        "# Introducción\n",
        "\n",
        "Una estructura de control de flujo es un bloque de código que permite agrupar varias instrucciones de manera controlada.\n",
        "Podemos ver esto como si nuestro código fuera agua que fluye en una tubería. Pero a veces necesitamos un punto de control en la tubería, algo que separe el flujo en dos ramas si el flujo es muy grande, o algo que se abra cuando se llegue a una cierta presión, etc. \n",
        "Estas estructuras nos sirven para que nuestro código no sea una línea recta, si no que tenga muchas más funcionalidades.\n",
        " Hablaremos principalmente sobre dos:\n",
        "* Estructuras de control condicionales\n",
        "* Estructuras de control iterativas\n",
        "\n",
        "Pero antes de ver esto, necesitamos ver algunos conceptos anteriores"
      ]
    },
    {
      "cell_type": "markdown",
      "metadata": {
        "id": "ahkeUMWkgWPC",
        "colab_type": "text"
      },
      "source": [
        "# Indentación\n",
        "\n",
        "Una característica cool de Python es que no trabaja con {}, para aquellos familiarizados con otros lenguajes de programación, usualmente el \"contenido\" de un ciclo o de un condicional se marca con {}, python lo hace con el uso de dos puntos (:) e indentación (sangría o espacios), veamos el siguiente ejemplo\n",
        "\n"
      ]
    },
    {
      "cell_type": "code",
      "metadata": {
        "id": "xQLjt1Y8jdW1",
        "colab_type": "code",
        "colab": {}
      },
      "source": [
        "i= 1 \n",
        "if i==1:\n",
        "  pass"
      ],
      "execution_count": 0,
      "outputs": []
    },
    {
      "cell_type": "markdown",
      "metadata": {
        "id": "0HgeEBRwj6GI",
        "colab_type": "text"
      },
      "source": [
        "Podemos observar que la estructura es de la siguiente manera:\n",
        "\n",
        "    inicio de la estructura de control:\n",
        "      expresiones"
      ]
    },
    {
      "cell_type": "markdown",
      "metadata": {
        "id": "ilasUHK3kfRY",
        "colab_type": "text"
      },
      "source": [
        "Estas indentaciones se pueden hacer con tabulador, o con espacios (aunque por costumbre se suele usar tabulador, pero cada quien tiene su hábito)"
      ]
    },
    {
      "cell_type": "markdown",
      "metadata": {
        "id": "ifxl2Ao3jVlk",
        "colab_type": "text"
      },
      "source": [
        "\n",
        "![meme](https://pbs.twimg.com/media/EZn_E4tWoAEcnEC?format=png&name=small)\n",
        "\n",
        "\n"
      ]
    },
    {
      "cell_type": "markdown",
      "metadata": {
        "id": "kfaTvb1tois6",
        "colab_type": "text"
      },
      "source": [
        "# Operadores relacionales\n",
        "\n",
        "> [...] Los condicionales nos permiten comprobar condiciones y hacer que nuestro programa se comporte de una forma u otra, que ejecute un fragmento de código u otro, dependiendo de esta condición [...]\n",
        "\n",
        "Del libro Python para todos.\n",
        "\n",
        "Los **condicionales** nos permiten evaluar si una o más condiciones se cumplen, y en base a eso, decir que acción se ejecutará. Esta evaluación es una operación booleana, es decir, solo arrojará **True** o **False**. \n",
        "\n",
        "Hagamos un ejemplo sobre todos los operadores relacionales que existen"
      ]
    },
    {
      "cell_type": "markdown",
      "metadata": {
        "id": "kaaYQG41pZyL",
        "colab_type": "text"
      },
      "source": [
        "Operador igual que \n",
        "\n",
        "\\=="
      ]
    },
    {
      "cell_type": "code",
      "metadata": {
        "id": "JYxfK--4pWXb",
        "colab_type": "code",
        "outputId": "15e942b0-5fc4-4976-aa12-0f1323689edf",
        "colab": {
          "base_uri": "https://localhost:8080/",
          "height": 34
        }
      },
      "source": [
        ""
      ],
      "execution_count": 0,
      "outputs": [
        {
          "output_type": "execute_result",
          "data": {
            "text/plain": [
              "False"
            ]
          },
          "metadata": {
            "tags": []
          },
          "execution_count": 3
        }
      ]
    },
    {
      "cell_type": "markdown",
      "metadata": {
        "id": "D3JX0Hjxpfzi",
        "colab_type": "text"
      },
      "source": [
        "Operador distinto que \\\\\n",
        "\\!="
      ]
    },
    {
      "cell_type": "code",
      "metadata": {
        "id": "xJkCpuSFpnl7",
        "colab_type": "code",
        "outputId": "e71a1696-91dc-458f-a3af-7f51517110da",
        "colab": {
          "base_uri": "https://localhost:8080/",
          "height": 34
        }
      },
      "source": [
        ""
      ],
      "execution_count": 0,
      "outputs": [
        {
          "output_type": "execute_result",
          "data": {
            "text/plain": [
              "False"
            ]
          },
          "metadata": {
            "tags": []
          },
          "execution_count": 4
        }
      ]
    },
    {
      "cell_type": "markdown",
      "metadata": {
        "id": "ZUb41EqwpstS",
        "colab_type": "text"
      },
      "source": [
        "Operador menor que\n",
        "\n",
        "\\<"
      ]
    },
    {
      "cell_type": "code",
      "metadata": {
        "id": "0yazqW-5qL9L",
        "colab_type": "code",
        "outputId": "6d524e88-61ac-43b0-84d1-52ed0eee211e",
        "colab": {
          "base_uri": "https://localhost:8080/",
          "height": 34
        }
      },
      "source": [
        ""
      ],
      "execution_count": 0,
      "outputs": [
        {
          "output_type": "execute_result",
          "data": {
            "text/plain": [
              "True"
            ]
          },
          "metadata": {
            "tags": []
          },
          "execution_count": 5
        }
      ]
    },
    {
      "cell_type": "markdown",
      "metadata": {
        "id": "dLknqnLXqQyt",
        "colab_type": "text"
      },
      "source": [
        "Operador mayor que \\\n",
        "\n",
        "\\>"
      ]
    },
    {
      "cell_type": "code",
      "metadata": {
        "id": "6ytMW_IQqUYV",
        "colab_type": "code",
        "outputId": "83a6035e-9dbe-482a-c8ff-ffbe14dda39c",
        "colab": {
          "base_uri": "https://localhost:8080/",
          "height": 34
        }
      },
      "source": [
        ""
      ],
      "execution_count": 0,
      "outputs": [
        {
          "output_type": "execute_result",
          "data": {
            "text/plain": [
              "True"
            ]
          },
          "metadata": {
            "tags": []
          },
          "execution_count": 6
        }
      ]
    },
    {
      "cell_type": "markdown",
      "metadata": {
        "id": "D049tazxqXvS",
        "colab_type": "text"
      },
      "source": [
        "Operador menor o igual que \\\n",
        "\\<="
      ]
    },
    {
      "cell_type": "code",
      "metadata": {
        "id": "YqDaxaIfqdWP",
        "colab_type": "code",
        "outputId": "67f6eb37-7cf4-4376-a32c-c0f24c3e9b55",
        "colab": {
          "base_uri": "https://localhost:8080/",
          "height": 34
        }
      },
      "source": [
        ""
      ],
      "execution_count": 0,
      "outputs": [
        {
          "output_type": "execute_result",
          "data": {
            "text/plain": [
              "True"
            ]
          },
          "metadata": {
            "tags": []
          },
          "execution_count": 7
        }
      ]
    },
    {
      "cell_type": "markdown",
      "metadata": {
        "id": "NMnqtPioqkIQ",
        "colab_type": "text"
      },
      "source": [
        "Operador mayor o igual que\n",
        "\n",
        "\n",
        "\\>="
      ]
    },
    {
      "cell_type": "code",
      "metadata": {
        "id": "l7FLZbgbqoWX",
        "colab_type": "code",
        "outputId": "66e876e2-c456-42c1-ef21-4911a54a10b8",
        "colab": {
          "base_uri": "https://localhost:8080/",
          "height": 34
        }
      },
      "source": [
        ""
      ],
      "execution_count": 0,
      "outputs": [
        {
          "output_type": "execute_result",
          "data": {
            "text/plain": [
              "True"
            ]
          },
          "metadata": {
            "tags": []
          },
          "execution_count": 8
        }
      ]
    },
    {
      "cell_type": "markdown",
      "metadata": {
        "id": "nsi3aJEkkyM7",
        "colab_type": "text"
      },
      "source": [
        "# Tabla de verdades\n",
        "\n",
        "Ahora, esto último nos sirve para evaluar una sola decisión. ¿Pero qué pasa cuando queremos evaluar más de una a la vez? Aquí entran los operadores lógicos, que trabajan con dos valores booleanos y te regresan otro valor booleano. Veamos un ejemplo con dos operadores muy usados, AND y OR (hay más, pero para el ejemplo solo usaremos estos)"
      ]
    },
    {
      "cell_type": "markdown",
      "metadata": {
        "id": "dvfsLNj3suuf",
        "colab_type": "text"
      },
      "source": [
        "## operador lógico AND\n",
        "\n",
        "Este operador solo devuelve un **True** cuando ambos valores de entrada son verdaderos. También se puede ver como el operador lógico de multiplicación, puesto que el único resultado que da 1 es 1x1\n",
        "\n",
        "![AND](https://aristoteles2pc.files.wordpress.com/2011/03/tabla-de-verdad.png?w=225&h=300)"
      ]
    },
    {
      "cell_type": "code",
      "metadata": {
        "id": "dmzGH-aytgEj",
        "colab_type": "code",
        "outputId": "630f7582-f7cb-4b33-9ce8-fa7849bbe6d0",
        "colab": {
          "base_uri": "https://localhost:8080/",
          "height": 34
        }
      },
      "source": [
        ""
      ],
      "execution_count": 0,
      "outputs": [
        {
          "output_type": "execute_result",
          "data": {
            "text/plain": [
              "True"
            ]
          },
          "metadata": {
            "tags": []
          },
          "execution_count": 9
        }
      ]
    },
    {
      "cell_type": "markdown",
      "metadata": {
        "id": "4p62Jt0DnsvA",
        "colab_type": "text"
      },
      "source": [
        "## Operador lógico OR\n",
        "\n",
        "Este operador devuelve un **True** cuando cualquier valor es 1. Se puede ver como el operador lógico de suma, puesto que siempre y cuando haya al menos un 1, no será 0.\n",
        "\n",
        "![or](https://aristoteles2pc.files.wordpress.com/2011/03/or1.png)"
      ]
    },
    {
      "cell_type": "code",
      "metadata": {
        "id": "7m8erL9AtlfT",
        "colab_type": "code",
        "outputId": "2c82d7b4-b5be-4c89-f19b-23f0b85f2c0e",
        "colab": {
          "base_uri": "https://localhost:8080/",
          "height": 34
        }
      },
      "source": [
        ""
      ],
      "execution_count": 0,
      "outputs": [
        {
          "output_type": "execute_result",
          "data": {
            "text/plain": [
              "True"
            ]
          },
          "metadata": {
            "tags": []
          },
          "execution_count": 10
        }
      ]
    },
    {
      "cell_type": "markdown",
      "metadata": {
        "id": "6iA07L7WtwQk",
        "colab_type": "text"
      },
      "source": [
        "# Estructuras de flujo condicionales\n",
        "\n",
        "Ahora, para poder realizar operaciones con estos operadores/condicionales, haremos uso de 3 palabras reservadas que tiene python:\n",
        "* `if` (si)\n",
        "* `else` (si no, si)\n",
        "* `elif` (si no) \\\n",
        "Se entenderá mejor con unos ejemplos"
      ]
    },
    {
      "cell_type": "code",
      "metadata": {
        "id": "EIg3tG2nu5SK",
        "colab_type": "code",
        "outputId": "c7f0e2b5-b189-4bab-ca68-b37be6a10ee1",
        "colab": {
          "base_uri": "https://localhost:8080/",
          "height": 34
        }
      },
      "source": [
        "i = 3\n",
        "if i > 2:\n",
        "  i = 2\n",
        "i"
      ],
      "execution_count": 0,
      "outputs": [
        {
          "output_type": "execute_result",
          "data": {
            "text/plain": [
              "2"
            ]
          },
          "metadata": {
            "tags": []
          },
          "execution_count": 12
        }
      ]
    },
    {
      "cell_type": "markdown",
      "metadata": {
        "id": "jSOphf9KvCYn",
        "colab_type": "text"
      },
      "source": [
        "El código de arriba se puede ver como, i es igual a 3, pero si i es mayor que 2, entonces i ahora será 2. Como es cierto (**True**), pasamos a realizar las operaciones que nos indica (asignar el valor de 2 a i)"
      ]
    },
    {
      "cell_type": "code",
      "metadata": {
        "id": "ayJ-_ZGcvU5i",
        "colab_type": "code",
        "outputId": "b9a7df46-f887-4031-f48f-627d7664ed28",
        "colab": {
          "base_uri": "https://localhost:8080/",
          "height": 34
        }
      },
      "source": [
        "if i == 3:\n",
        "  i = 2\n",
        "else:\n",
        "  i= 3\n",
        "i"
      ],
      "execution_count": 0,
      "outputs": [
        {
          "output_type": "execute_result",
          "data": {
            "text/plain": [
              "2"
            ]
          },
          "metadata": {
            "tags": []
          },
          "execution_count": 19
        }
      ]
    },
    {
      "cell_type": "markdown",
      "metadata": {
        "id": "lAuqNRntxjgM",
        "colab_type": "text"
      },
      "source": [
        "Aquí revisa si i es igual a 3, si es verdadero, ahora i será igual a 2. Pero si i no es igual a 3, hace que i sea igual a 3"
      ]
    },
    {
      "cell_type": "code",
      "metadata": {
        "id": "HBFrALf2vc4E",
        "colab_type": "code",
        "outputId": "e01f8f8e-d2c7-4e8d-d9cd-2a4fc3ec0b65",
        "colab": {
          "base_uri": "https://localhost:8080/",
          "height": 34
        }
      },
      "source": [
        "if i == 3:\n",
        "  i = 2\n",
        "elif i == 2:\n",
        "  i = 4\n",
        "i"
      ],
      "execution_count": 0,
      "outputs": [
        {
          "output_type": "execute_result",
          "data": {
            "text/plain": [
              "4"
            ]
          },
          "metadata": {
            "tags": []
          },
          "execution_count": 22
        }
      ]
    },
    {
      "cell_type": "markdown",
      "metadata": {
        "id": "v_B_14tZx4Rz",
        "colab_type": "text"
      },
      "source": [
        "\n",
        "También, se puede meter un if dentro de otro if"
      ]
    },
    {
      "cell_type": "code",
      "metadata": {
        "id": "zD1bK2X2yKpX",
        "colab_type": "code",
        "outputId": "af6a6f95-e509-43df-9b01-b42bb7257f70",
        "colab": {
          "base_uri": "https://localhost:8080/",
          "height": 34
        }
      },
      "source": [
        "if 3 < 5:\n",
        "  if 3 > 1:\n",
        "    print(\"Asumecha!\")"
      ],
      "execution_count": 0,
      "outputs": [
        {
          "output_type": "stream",
          "text": [
            "Asumecha!\n"
          ],
          "name": "stdout"
        }
      ]
    },
    {
      "cell_type": "markdown",
      "metadata": {
        "id": "_0iG29sDyFp6",
        "colab_type": "text"
      },
      "source": [
        "Les recomiendo mucho jugar con los condicionales para que vean lo que pueden hacer."
      ]
    },
    {
      "cell_type": "markdown",
      "metadata": {
        "id": "l-rJt2YMyVxv",
        "colab_type": "text"
      },
      "source": [
        "# Estructuras de flujo iterativas\n",
        "\n",
        "Aparte de tener condicionales, también tenemos este tipo de estructuras de flujo, que nos permiten ejecutar un mismo código de manera repetida mientras se cumpla una condición. Existen dos estructuras cíclicas en python:\n",
        "* `for`\n",
        "* `while`\n",
        "\n"
      ]
    },
    {
      "cell_type": "markdown",
      "metadata": {
        "id": "nKrhfTotzPA0",
        "colab_type": "text"
      },
      "source": [
        "## Ciclo for\n",
        "\n",
        "Este ciclo nos permite iterar operaciones. Para entenderlo mejor, vamos a hacer algunos ejemplos. Digamos que tenemos una lista de personas, y queremos saludar a todos los de la lista, pero es cansado escribir todos los prints, entonces lo podemos hacer así"
      ]
    },
    {
      "cell_type": "code",
      "metadata": {
        "id": "KL5NJyJdzvsi",
        "colab_type": "code",
        "outputId": "9e04cbb0-21f4-46ac-a92f-75a2bb44504e",
        "colab": {
          "base_uri": "https://localhost:8080/",
          "height": 119
        }
      },
      "source": [
        ""
      ],
      "execution_count": 0,
      "outputs": [
        {
          "output_type": "stream",
          "text": [
            "Hola pikachu!\n",
            "Hola charmander!\n",
            "Hola squirtle!\n",
            "Hola bulbausar!\n",
            "Hola moltress!\n",
            "Hola zapdos!\n"
          ],
          "name": "stdout"
        }
      ]
    },
    {
      "cell_type": "markdown",
      "metadata": {
        "id": "npxMcqfv0SQo",
        "colab_type": "text"
      },
      "source": [
        "También podemos hacerlo con numeros, digamos que queremos imprimir solo los pares del 50 al 100"
      ]
    },
    {
      "cell_type": "code",
      "metadata": {
        "id": "eeDap5BO0A3O",
        "colab_type": "code",
        "outputId": "1656c0d2-cdd0-4328-b4f5-10e9e62b1177",
        "colab": {
          "base_uri": "https://localhost:8080/",
          "height": 867
        }
      },
      "source": [
        "i=50\n",
        "for valor in range(i,100):\n",
        "  pass"
      ],
      "execution_count": 0,
      "outputs": [
        {
          "output_type": "stream",
          "text": [
            "el numero 50 es par\n",
            "El numero 51 es impar\n",
            "el numero 52 es par\n",
            "El numero 53 es impar\n",
            "el numero 54 es par\n",
            "El numero 55 es impar\n",
            "el numero 56 es par\n",
            "El numero 57 es impar\n",
            "el numero 58 es par\n",
            "El numero 59 es impar\n",
            "el numero 60 es par\n",
            "El numero 61 es impar\n",
            "el numero 62 es par\n",
            "El numero 63 es impar\n",
            "el numero 64 es par\n",
            "El numero 65 es impar\n",
            "el numero 66 es par\n",
            "El numero 67 es impar\n",
            "el numero 68 es par\n",
            "El numero 69 es impar\n",
            "el numero 70 es par\n",
            "El numero 71 es impar\n",
            "el numero 72 es par\n",
            "El numero 73 es impar\n",
            "el numero 74 es par\n",
            "El numero 75 es impar\n",
            "el numero 76 es par\n",
            "El numero 77 es impar\n",
            "el numero 78 es par\n",
            "El numero 79 es impar\n",
            "el numero 80 es par\n",
            "El numero 81 es impar\n",
            "el numero 82 es par\n",
            "El numero 83 es impar\n",
            "el numero 84 es par\n",
            "El numero 85 es impar\n",
            "el numero 86 es par\n",
            "El numero 87 es impar\n",
            "el numero 88 es par\n",
            "El numero 89 es impar\n",
            "el numero 90 es par\n",
            "El numero 91 es impar\n",
            "el numero 92 es par\n",
            "El numero 93 es impar\n",
            "el numero 94 es par\n",
            "El numero 95 es impar\n",
            "el numero 96 es par\n",
            "El numero 97 es impar\n",
            "el numero 98 es par\n",
            "El numero 99 es impar\n"
          ],
          "name": "stdout"
        }
      ]
    },
    {
      "cell_type": "markdown",
      "metadata": {
        "id": "UDyc9xlN1EfQ",
        "colab_type": "text"
      },
      "source": [
        "## Ciclo while\n",
        "\n",
        "Este ciclo siempre se ejecutará mientras se cumpla su condición asociada, veamoslo con un ejemplo."
      ]
    },
    {
      "cell_type": "markdown",
      "metadata": {
        "id": "xdUecCEg1MbW",
        "colab_type": "text"
      },
      "source": [
        "Digamos que quiero comprar dulces, pero para eso necesito dinero, puesto que cada dulce cuesta 5 pesos. Pero digamos que solo compraré dulces mientras tenga más de 50 pesos. entonces:"
      ]
    },
    {
      "cell_type": "code",
      "metadata": {
        "id": "M6XHPJ8i1Lvu",
        "colab_type": "code",
        "outputId": "f8ffa43d-893e-4329-c2c8-fd9e7b655d41",
        "colab": {
          "base_uri": "https://localhost:8080/",
          "height": 170
        }
      },
      "source": [
        "dinero= 67\n",
        "i=0\n",
        "while(dinero>50):\n",
        "  pass"
      ],
      "execution_count": 0,
      "outputs": [
        {
          "output_type": "stream",
          "text": [
            "Yum! te compraste un dulce\n",
            "tu dinero actual es 62\n",
            "Yum! te compraste un dulce\n",
            "tu dinero actual es 57\n",
            "Yum! te compraste un dulce\n",
            "tu dinero actual es 52\n",
            "Yum! te compraste un dulce\n",
            "tu dinero actual es 47\n",
            "Hijoles, gastaste 20 pesos en 4 dulces :(\n"
          ],
          "name": "stdout"
        }
      ]
    },
    {
      "cell_type": "markdown",
      "metadata": {
        "id": "acXVd11RMjOi",
        "colab_type": "text"
      },
      "source": [
        "# Problema\n",
        "\n",
        "![Tabla valores](data:image/jpeg;base64,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)\n",
        "\n",
        "El costo de las llamadas telefónicas internacionales depende de la zona geográfica en la que se encuentre el país destino y del número de minutos hablados. En la siguiente tabla se presenta el costo del minuto por zona. A cada zona se le ha asociado una clave.\n",
        "\n",
        "Construya un programa que le permita calcular e imprimir el costo total de una llamada.\n"
      ]
    },
    {
      "cell_type": "code",
      "metadata": {
        "id": "FrfLOGdpNwKA",
        "colab_type": "code",
        "colab": {}
      },
      "source": [
        ""
      ],
      "execution_count": 0,
      "outputs": []
    }
  ]
}