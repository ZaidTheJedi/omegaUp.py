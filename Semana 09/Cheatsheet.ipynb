{
  "nbformat": 4,
  "nbformat_minor": 0,
  "metadata": {
    "colab": {
      "name": "Cheatsheet.ipynb",
      "provenance": []
    },
    "kernelspec": {
      "name": "python3",
      "display_name": "Python 3"
    }
  },
  "cells": [
    {
      "cell_type": "markdown",
      "metadata": {
        "id": "3tePRtsqfkt9",
        "colab_type": "text"
      },
      "source": [
        "# Sesión 9: stdlib math 🚀\n",
        "\n",
        "<img src=\"https://futurelab.mx/images/futurelab-landscape.png\" alt=\"Drawing\" width=\"30%\"/> \\\\\n",
        "Índice:\n",
        "1. Introducción.\n",
        "2. Funciones numéricas\n",
        "3. Funciones trigonométricas\n",
        "4. Funciones angulares\n",
        "5. Funciones hiperbólicas\n",
        "6. Funciones speciales\n",
        "7. Constantes\n",
        "8. Funciones logarítmicas\n",
        "\n"
      ]
    },
    {
      "cell_type": "markdown",
      "metadata": {
        "id": "l8tuFR2PgXjP",
        "colab_type": "text"
      },
      "source": [
        "# Introducción\n",
        "\n",
        "Stdlib es la contracción de standard library. La _Python Standard Library_ es una librería muuuuy (muy. muy.) extensa que contiene un amplio rango de facilidades. En este caso, nos centraremos en el apartado de math. \n",
        "\n",
        "El módulo de math nos da acceso a las funciones matemáticas definidas por el estándar de C.\n",
        "\n",
        "Pequeña sidenote, estas funciones no pueden ser usadas con números complejos, para ese caso, ir al módulo cmath.\n",
        "\n",
        "Ahora sí, vamos a las funciones"
      ]
    },
    {
      "cell_type": "markdown",
      "metadata": {
        "id": "MI0ky3IYhP0E",
        "colab_type": "text"
      },
      "source": [
        "# Funciones numéricas"
      ]
    },
    {
      "cell_type": "markdown",
      "metadata": {
        "id": "7y_2ieX2hTHV",
        "colab_type": "text"
      },
      "source": [
        "## math.ceil y math.floor\n",
        "\n",
        "\n",
        "Estas funciones reciben como argumento un número x, y te regresan el número x redondeado (hacia arriba en el caso de ceil, y hacia abajo en el caso de floor)"
      ]
    },
    {
      "cell_type": "code",
      "metadata": {
        "id": "dD8kJ2N-gU3Y",
        "colab_type": "code",
        "colab": {}
      },
      "source": [
        "import math"
      ],
      "execution_count": 2,
      "outputs": []
    },
    {
      "cell_type": "code",
      "metadata": {
        "id": "IrGSTgnGhaES",
        "colab_type": "code",
        "colab": {
          "base_uri": "https://localhost:8080/",
          "height": 34
        },
        "outputId": "ae9f9c41-fd2c-421e-b5bf-a21350737de9"
      },
      "source": [
        ""
      ],
      "execution_count": 5,
      "outputs": [
        {
          "output_type": "execute_result",
          "data": {
            "text/plain": [
              "12"
            ]
          },
          "metadata": {
            "tags": []
          },
          "execution_count": 5
        }
      ]
    },
    {
      "cell_type": "markdown",
      "metadata": {
        "id": "vr6EpXr1h2Yu",
        "colab_type": "text"
      },
      "source": [
        "## math.comb\n",
        "\n",
        "Esta función recibe como argumento dos números, n y k, y te regresa la combinatoria de n y k, es decir; el número de maneras en las que puedes escoger k objetos de n objetos.\n",
        "\n",
        "La operación matemática es esta:\n",
        "\n",
        "\n",
        "<img src=\"https://economipedia.com/wp-content/uploads/Combinatoria-sin-repetición-fórmula-1.jpg\" alt=\"Drawing\" width=\"30%\"/> \\\\"
      ]
    },
    {
      "cell_type": "code",
      "metadata": {
        "id": "6i6xqhueiKsY",
        "colab_type": "code",
        "colab": {
          "base_uri": "https://localhost:8080/",
          "height": 163
        },
        "outputId": "dc2773e4-da30-4292-bbeb-0ad52bab44ba"
      },
      "source": [
        "math.comb(1,1)"
      ],
      "execution_count": 6,
      "outputs": [
        {
          "output_type": "error",
          "ename": "AttributeError",
          "evalue": "ignored",
          "traceback": [
            "\u001b[0;31m---------------------------------------------------------------------------\u001b[0m",
            "\u001b[0;31mAttributeError\u001b[0m                            Traceback (most recent call last)",
            "\u001b[0;32m<ipython-input-6-f8e390543424>\u001b[0m in \u001b[0;36m<module>\u001b[0;34m()\u001b[0m\n\u001b[0;32m----> 1\u001b[0;31m \u001b[0mmath\u001b[0m\u001b[0;34m.\u001b[0m\u001b[0mcomb\u001b[0m\u001b[0;34m(\u001b[0m\u001b[0;36m1\u001b[0m\u001b[0;34m,\u001b[0m\u001b[0;36m1\u001b[0m\u001b[0;34m)\u001b[0m\u001b[0;34m\u001b[0m\u001b[0;34m\u001b[0m\u001b[0m\n\u001b[0m",
            "\u001b[0;31mAttributeError\u001b[0m: module 'math' has no attribute 'comb'"
          ]
        }
      ]
    },
    {
      "cell_type": "markdown",
      "metadata": {
        "id": "PefR_QJpkeCD",
        "colab_type": "text"
      },
      "source": [
        "## math.copysign\n",
        "\n",
        "Esta función recibe como argumento dos valores x & y, y te regresa la magnitud de x con el signo de y.\n"
      ]
    },
    {
      "cell_type": "code",
      "metadata": {
        "id": "-M5vzqaVi2q9",
        "colab_type": "code",
        "colab": {
          "base_uri": "https://localhost:8080/",
          "height": 34
        },
        "outputId": "3876e266-cd17-49d5-c19f-e6cc9ac0b335"
      },
      "source": [
        "math.copysign(5,-20)"
      ],
      "execution_count": 7,
      "outputs": [
        {
          "output_type": "execute_result",
          "data": {
            "text/plain": [
              "-5.0"
            ]
          },
          "metadata": {
            "tags": []
          },
          "execution_count": 7
        }
      ]
    },
    {
      "cell_type": "markdown",
      "metadata": {
        "id": "AguBqkrLk6Ik",
        "colab_type": "text"
      },
      "source": [
        "## math.fabs\n",
        "\n",
        "Esta función recibe como argumento un valor x, y te regresa el valor absoluto de este."
      ]
    },
    {
      "cell_type": "code",
      "metadata": {
        "id": "uM2fSdjgk_y3",
        "colab_type": "code",
        "colab": {}
      },
      "source": [
        ""
      ],
      "execution_count": null,
      "outputs": []
    },
    {
      "cell_type": "markdown",
      "metadata": {
        "id": "0BhB1cJalAkU",
        "colab_type": "text"
      },
      "source": [
        "## math.factorial\n",
        "\n",
        "Esta función recibe como argumento un valor entero x, y te regresa el factorial de este número. \n",
        "\n",
        "Recordemos que el factorial de un número es:\n",
        "\n",
        "<img src=\"https://i.ytimg.com/vi/tlpEaukLhxY/maxresdefault.jpg\" alt=\"Drawing\" width=\"30%\"/> \\\\"
      ]
    },
    {
      "cell_type": "code",
      "metadata": {
        "id": "Pdpf5fU2lcPs",
        "colab_type": "code",
        "colab": {
          "base_uri": "https://localhost:8080/",
          "height": 34
        },
        "outputId": "3f925122-a0dc-47b7-88b4-6d5126f90617"
      },
      "source": [
        "3%2"
      ],
      "execution_count": 8,
      "outputs": [
        {
          "output_type": "execute_result",
          "data": {
            "text/plain": [
              "1"
            ]
          },
          "metadata": {
            "tags": []
          },
          "execution_count": 8
        }
      ]
    },
    {
      "cell_type": "markdown",
      "metadata": {
        "id": "VO0Q75U2lbr_",
        "colab_type": "text"
      },
      "source": [
        "## math.fmod\n",
        "\n",
        "Esta función recibe como argumento dos valores enteros, x & y, y te regresa x % y, o sea, el módulo y de x."
      ]
    },
    {
      "cell_type": "code",
      "metadata": {
        "id": "UVGpntAYlujT",
        "colab_type": "code",
        "colab": {}
      },
      "source": [
        ""
      ],
      "execution_count": null,
      "outputs": []
    },
    {
      "cell_type": "markdown",
      "metadata": {
        "id": "0U0SGWgllvVC",
        "colab_type": "text"
      },
      "source": [
        "## math.frexp\n",
        "\n",
        "Esta función recibe como argumento un valor flotante, y te regresa el mantissa y el exponente de x, tal que \n",
        "\n",
        "x= m*2**e"
      ]
    },
    {
      "cell_type": "code",
      "metadata": {
        "id": "Z1DYNoSUmCiQ",
        "colab_type": "code",
        "colab": {
          "base_uri": "https://localhost:8080/",
          "height": 34
        },
        "outputId": "f1a53308-6334-433d-cc53-67bbb1f91bb4"
      },
      "source": [
        "math.frexp(10.2)"
      ],
      "execution_count": 9,
      "outputs": [
        {
          "output_type": "execute_result",
          "data": {
            "text/plain": [
              "(0.6375, 4)"
            ]
          },
          "metadata": {
            "tags": []
          },
          "execution_count": 9
        }
      ]
    },
    {
      "cell_type": "code",
      "metadata": {
        "id": "EGvI4xUEmgWk",
        "colab_type": "code",
        "colab": {
          "base_uri": "https://localhost:8080/",
          "height": 34
        },
        "outputId": "4ba3edc1-efcf-47c7-b6db-336483c27647"
      },
      "source": [
        "0.6375*(2**4)"
      ],
      "execution_count": 12,
      "outputs": [
        {
          "output_type": "execute_result",
          "data": {
            "text/plain": [
              "10.2"
            ]
          },
          "metadata": {
            "tags": []
          },
          "execution_count": 12
        }
      ]
    },
    {
      "cell_type": "markdown",
      "metadata": {
        "id": "xen7xzPmmuuN",
        "colab_type": "text"
      },
      "source": [
        "## math.fsum\n",
        "\n",
        "Esta función recibe como argumento una lista, y te regresa la suma precisa de punto flotante de la suma de valores en la lista."
      ]
    },
    {
      "cell_type": "code",
      "metadata": {
        "id": "_4ga95xHm80X",
        "colab_type": "code",
        "colab": {
          "base_uri": "https://localhost:8080/",
          "height": 34
        },
        "outputId": "9de08551-dcf6-45ff-ee73-bfbe8b0a500d"
      },
      "source": [
        "math.fsum([.1,.1])"
      ],
      "execution_count": 13,
      "outputs": [
        {
          "output_type": "execute_result",
          "data": {
            "text/plain": [
              "0.2"
            ]
          },
          "metadata": {
            "tags": []
          },
          "execution_count": 13
        }
      ]
    },
    {
      "cell_type": "markdown",
      "metadata": {
        "id": "CHyOPiasnDom",
        "colab_type": "text"
      },
      "source": [
        "## math.gcd\n",
        "\n",
        "Esta función recibe como argumento dos enteros, a & b, y te regresa el máximo comun divisor de ambos números"
      ]
    },
    {
      "cell_type": "code",
      "metadata": {
        "id": "PMondfmLnBaI",
        "colab_type": "code",
        "colab": {}
      },
      "source": [
        ""
      ],
      "execution_count": null,
      "outputs": []
    },
    {
      "cell_type": "markdown",
      "metadata": {
        "id": "Gd171YHknbqf",
        "colab_type": "text"
      },
      "source": [
        "## math.isclose\n",
        "\n",
        "Esta función recibe como argumentos dos valores(como mínimo), y te devuelve un True si ambos números son cercanos, y un False de lo contrario.\n",
        "\n",
        "También puede recibir como argumento la tolerancia relativa rel_tol. Por default, es 1e-09, esto es, los valores deben ser los mismos entre 9 dígitos decimales. \n",
        "\n",
        "De igual manera, otro argumento posible es abs_tol, que es la tolerancia mínima absoluta.\n",
        "\n"
      ]
    },
    {
      "cell_type": "code",
      "metadata": {
        "id": "C3ARzgtrn5kU",
        "colab_type": "code",
        "colab": {}
      },
      "source": [
        ""
      ],
      "execution_count": null,
      "outputs": []
    },
    {
      "cell_type": "markdown",
      "metadata": {
        "id": "PeBng33moTNt",
        "colab_type": "text"
      },
      "source": [
        "## math.isfinite\n",
        "\n",
        "Esta función recibe como argumento x, y regresa un True si x no es infinito o NaN (not a number), y False de lo contrario"
      ]
    },
    {
      "cell_type": "code",
      "metadata": {
        "id": "ORSManP8okBp",
        "colab_type": "code",
        "colab": {}
      },
      "source": [
        ""
      ],
      "execution_count": null,
      "outputs": []
    },
    {
      "cell_type": "markdown",
      "metadata": {
        "id": "7IUt1WMIokp9",
        "colab_type": "text"
      },
      "source": [
        "## math.isinf\n",
        "\n",
        "Esta función es parecida a lo de arriba, pero al revés. Regresa un True si x es más o menos infinito, y False de lo contrario"
      ]
    },
    {
      "cell_type": "code",
      "metadata": {
        "id": "8yCczHA9os_g",
        "colab_type": "code",
        "colab": {}
      },
      "source": [
        ""
      ],
      "execution_count": null,
      "outputs": []
    },
    {
      "cell_type": "markdown",
      "metadata": {
        "id": "ljbcScaIoy8k",
        "colab_type": "text"
      },
      "source": [
        "##math.isnan\n",
        "Esta función también es parecida a la de finito, regresa un True si su argumento es un NaN (not a number)"
      ]
    },
    {
      "cell_type": "code",
      "metadata": {
        "id": "ghQhQabro512",
        "colab_type": "code",
        "colab": {}
      },
      "source": [
        ""
      ],
      "execution_count": null,
      "outputs": []
    },
    {
      "cell_type": "markdown",
      "metadata": {
        "id": "Zum_7dPpo6pU",
        "colab_type": "text"
      },
      "source": [
        "## math.ldexp\n",
        "\n",
        "Esta función recibe dos valores, x & i, y regresa x*(2**i). Es la función inversa de **math.frexp**"
      ]
    },
    {
      "cell_type": "code",
      "metadata": {
        "id": "CWoN5oNEpOul",
        "colab_type": "code",
        "colab": {
          "base_uri": "https://localhost:8080/",
          "height": 34
        },
        "outputId": "1ffe2ec3-4380-45b4-a952-ee5edc4ffeaa"
      },
      "source": [
        "math.ldexp(0.6375,4)"
      ],
      "execution_count": 17,
      "outputs": [
        {
          "output_type": "execute_result",
          "data": {
            "text/plain": [
              "10.2"
            ]
          },
          "metadata": {
            "tags": []
          },
          "execution_count": 17
        }
      ]
    },
    {
      "cell_type": "markdown",
      "metadata": {
        "id": "0fm6lKt9pZnC",
        "colab_type": "text"
      },
      "source": [
        "## math.modf\n",
        "\n",
        "Recibe como argumento un número x, y regresa la parte fraccional y entera de este."
      ]
    },
    {
      "cell_type": "code",
      "metadata": {
        "id": "7xgARdYUpgVK",
        "colab_type": "code",
        "colab": {}
      },
      "source": [
        ""
      ],
      "execution_count": null,
      "outputs": []
    },
    {
      "cell_type": "markdown",
      "metadata": {
        "id": "nwYLMASqphlf",
        "colab_type": "text"
      },
      "source": [
        "## math.perm\n",
        "\n",
        "Esta función, parecida a la combinación, recibe dos argumentos, n & k, y te regresa la permutación de n en k, esto es; el número de maneras de escoger k objetos de entre n objetos, sin repetirse y con orden. como una caja de canicas. \n",
        "\n",
        "La ecuación es la siguiente:\n",
        "\n",
        "<img src=\"https://4.bp.blogspot.com/-UoorZCAsVhM/T8F-_8210LI/AAAAAAAAADI/xGCK5B0y8CQ/s1600/Imagen1.png\" alt=\"Drawing\" width=\"30%\"/> \\\\"
      ]
    },
    {
      "cell_type": "code",
      "metadata": {
        "id": "WDM3JhkEr9D9",
        "colab_type": "code",
        "colab": {
          "base_uri": "https://localhost:8080/",
          "height": 163
        },
        "outputId": "26911c08-0385-4070-9bcc-d226642f9995"
      },
      "source": [
        "math.perm(5,2)"
      ],
      "execution_count": 18,
      "outputs": [
        {
          "output_type": "error",
          "ename": "AttributeError",
          "evalue": "ignored",
          "traceback": [
            "\u001b[0;31m---------------------------------------------------------------------------\u001b[0m",
            "\u001b[0;31mAttributeError\u001b[0m                            Traceback (most recent call last)",
            "\u001b[0;32m<ipython-input-18-534fa568a4bd>\u001b[0m in \u001b[0;36m<module>\u001b[0;34m()\u001b[0m\n\u001b[0;32m----> 1\u001b[0;31m \u001b[0mmath\u001b[0m\u001b[0;34m.\u001b[0m\u001b[0mperm\u001b[0m\u001b[0;34m(\u001b[0m\u001b[0;36m5\u001b[0m\u001b[0;34m,\u001b[0m\u001b[0;36m2\u001b[0m\u001b[0;34m)\u001b[0m\u001b[0;34m\u001b[0m\u001b[0;34m\u001b[0m\u001b[0m\n\u001b[0m",
            "\u001b[0;31mAttributeError\u001b[0m: module 'math' has no attribute 'perm'"
          ]
        }
      ]
    },
    {
      "cell_type": "markdown",
      "metadata": {
        "id": "yVZonlKPsIrV",
        "colab_type": "text"
      },
      "source": [
        "## math.remainder\n",
        "\n"
      ]
    },
    {
      "cell_type": "code",
      "metadata": {
        "id": "BbKdsa8LsMCM",
        "colab_type": "code",
        "colab": {
          "base_uri": "https://localhost:8080/",
          "height": 163
        },
        "outputId": "dab6bbec-bcbe-41ac-fe2c-bd89c2e96cd6"
      },
      "source": [
        "math.remainder(5,6)"
      ],
      "execution_count": 19,
      "outputs": [
        {
          "output_type": "error",
          "ename": "AttributeError",
          "evalue": "ignored",
          "traceback": [
            "\u001b[0;31m---------------------------------------------------------------------------\u001b[0m",
            "\u001b[0;31mAttributeError\u001b[0m                            Traceback (most recent call last)",
            "\u001b[0;32m<ipython-input-19-1cddc6558cb0>\u001b[0m in \u001b[0;36m<module>\u001b[0;34m()\u001b[0m\n\u001b[0;32m----> 1\u001b[0;31m \u001b[0mmath\u001b[0m\u001b[0;34m.\u001b[0m\u001b[0mremainder\u001b[0m\u001b[0;34m(\u001b[0m\u001b[0;36m5\u001b[0m\u001b[0;34m,\u001b[0m\u001b[0;36m6\u001b[0m\u001b[0;34m)\u001b[0m\u001b[0;34m\u001b[0m\u001b[0;34m\u001b[0m\u001b[0m\n\u001b[0m",
            "\u001b[0;31mAttributeError\u001b[0m: module 'math' has no attribute 'remainder'"
          ]
        }
      ]
    },
    {
      "cell_type": "markdown",
      "metadata": {
        "id": "qeJTVTq6sR1E",
        "colab_type": "text"
      },
      "source": [
        "## math.trunc\n",
        "\n",
        "Esta función recibe como argumento un número, y regresa el valor real del numero truncado a un entero. \n",
        "\n",
        "funciona como floor para números positivos, y como ceil para negativos. "
      ]
    },
    {
      "cell_type": "code",
      "metadata": {
        "id": "YGUhFarvsZQF",
        "colab_type": "code",
        "colab": {
          "base_uri": "https://localhost:8080/",
          "height": 34
        },
        "outputId": "dd7874d7-2473-458d-c8da-bacdc5b9f78c"
      },
      "source": [
        "math.trunc(-5.9)"
      ],
      "execution_count": 23,
      "outputs": [
        {
          "output_type": "execute_result",
          "data": {
            "text/plain": [
              "-5"
            ]
          },
          "metadata": {
            "tags": []
          },
          "execution_count": 23
        }
      ]
    },
    {
      "cell_type": "markdown",
      "metadata": {
        "id": "Jt2VqJWStAEo",
        "colab_type": "text"
      },
      "source": [
        "# Funciones trigonométricas"
      ]
    },
    {
      "cell_type": "markdown",
      "metadata": {
        "id": "g_M18uIFte90",
        "colab_type": "text"
      },
      "source": [
        "## math.acos, math.asin y math.atan\n",
        "\n",
        "Estas funciones toman como argumento un valor x, en radianes, en radianes, y regresan el arco-coseno, el arco-seno, y el arco-tangente de x respectivamente"
      ]
    },
    {
      "cell_type": "code",
      "metadata": {
        "id": "TaxzavTfteAy",
        "colab_type": "code",
        "colab": {}
      },
      "source": [
        ""
      ],
      "execution_count": null,
      "outputs": []
    },
    {
      "cell_type": "markdown",
      "metadata": {
        "id": "Rtk9bH1Gt72j",
        "colab_type": "text"
      },
      "source": [
        "## math.atan2\n",
        "\n",
        "Esta función toma como argumento 2 valores, x & y, en radianes, en radiantes, y regresa la arco-tangete de x entre y"
      ]
    },
    {
      "cell_type": "code",
      "metadata": {
        "id": "pOwrisC5t8-B",
        "colab_type": "code",
        "colab": {}
      },
      "source": [
        ""
      ],
      "execution_count": null,
      "outputs": []
    },
    {
      "cell_type": "markdown",
      "metadata": {
        "id": "roC1su_1uEsB",
        "colab_type": "text"
      },
      "source": [
        "## math.cos, math.sin y math.tan\n",
        "\n",
        "Estas funciones toman como argumento un valor x, en radianes, en radiantes, y regresan el valor del coseno, el seno, y la tangente de x respectivamente"
      ]
    },
    {
      "cell_type": "code",
      "metadata": {
        "id": "rWKYHCyMugGk",
        "colab_type": "code",
        "colab": {}
      },
      "source": [
        ""
      ],
      "execution_count": null,
      "outputs": []
    },
    {
      "cell_type": "markdown",
      "metadata": {
        "id": "tsyQGc2UumYM",
        "colab_type": "text"
      },
      "source": [
        "## math.dist\n",
        "\n",
        "Estas funciones toman como argumento dos puntos, p & y, cada uno siento una lista de coordenadas, y regresan la distancia euclidiana entre ellos. "
      ]
    },
    {
      "cell_type": "code",
      "metadata": {
        "id": "jGLCvqPluvQ1",
        "colab_type": "code",
        "colab": {
          "base_uri": "https://localhost:8080/",
          "height": 197
        },
        "outputId": "f0459a48-3ec1-47e7-964f-2cd25fd3e15d"
      },
      "source": [
        "p=[2,2]\n",
        "q=[4,4]\n",
        "math.dist(p,q)"
      ],
      "execution_count": 24,
      "outputs": [
        {
          "output_type": "error",
          "ename": "AttributeError",
          "evalue": "ignored",
          "traceback": [
            "\u001b[0;31m---------------------------------------------------------------------------\u001b[0m",
            "\u001b[0;31mAttributeError\u001b[0m                            Traceback (most recent call last)",
            "\u001b[0;32m<ipython-input-24-107b759e00aa>\u001b[0m in \u001b[0;36m<module>\u001b[0;34m()\u001b[0m\n\u001b[1;32m      1\u001b[0m \u001b[0mp\u001b[0m\u001b[0;34m=\u001b[0m\u001b[0;34m[\u001b[0m\u001b[0;36m2\u001b[0m\u001b[0;34m,\u001b[0m\u001b[0;36m2\u001b[0m\u001b[0;34m]\u001b[0m\u001b[0;34m\u001b[0m\u001b[0;34m\u001b[0m\u001b[0m\n\u001b[1;32m      2\u001b[0m \u001b[0mq\u001b[0m\u001b[0;34m=\u001b[0m\u001b[0;34m[\u001b[0m\u001b[0;36m4\u001b[0m\u001b[0;34m,\u001b[0m\u001b[0;36m4\u001b[0m\u001b[0;34m]\u001b[0m\u001b[0;34m\u001b[0m\u001b[0;34m\u001b[0m\u001b[0m\n\u001b[0;32m----> 3\u001b[0;31m \u001b[0mmath\u001b[0m\u001b[0;34m.\u001b[0m\u001b[0mdist\u001b[0m\u001b[0;34m(\u001b[0m\u001b[0mp\u001b[0m\u001b[0;34m,\u001b[0m\u001b[0mq\u001b[0m\u001b[0;34m)\u001b[0m\u001b[0;34m\u001b[0m\u001b[0;34m\u001b[0m\u001b[0m\n\u001b[0m",
            "\u001b[0;31mAttributeError\u001b[0m: module 'math' has no attribute 'dist'"
          ]
        }
      ]
    },
    {
      "cell_type": "markdown",
      "metadata": {
        "id": "IWxWiHbcu16s",
        "colab_type": "text"
      },
      "source": [
        "## math.hypot\n",
        "\n",
        "Esta función recibe como argumento varios puntos, y te regresa la norma euclidiana de estos. \n",
        "\n",
        "Se puede ver como calcular la hipotenusa teniendo los lados de un triángulo."
      ]
    },
    {
      "cell_type": "code",
      "metadata": {
        "id": "ScVBFKwdvW1U",
        "colab_type": "code",
        "colab": {
          "base_uri": "https://localhost:8080/",
          "height": 34
        },
        "outputId": "5d082347-fc37-4312-9718-0c42a9ecf3b2"
      },
      "source": [
        "p=2\n",
        "q=4\n",
        "math.hypot(3,5)"
      ],
      "execution_count": 30,
      "outputs": [
        {
          "output_type": "execute_result",
          "data": {
            "text/plain": [
              "5.830951894845301"
            ]
          },
          "metadata": {
            "tags": []
          },
          "execution_count": 30
        }
      ]
    },
    {
      "cell_type": "markdown",
      "metadata": {
        "id": "NegZ35e1wQEI",
        "colab_type": "text"
      },
      "source": [
        "# Funciones angulares"
      ]
    },
    {
      "cell_type": "markdown",
      "metadata": {
        "id": "9yWnpTwEws0C",
        "colab_type": "text"
      },
      "source": [
        "## math.degrees\n",
        "\n",
        "Recibe un valor x como argumento, en radianes, y regresa ese valor en grados"
      ]
    },
    {
      "cell_type": "code",
      "metadata": {
        "id": "v6aJvqU8wRS3",
        "colab_type": "code",
        "colab": {}
      },
      "source": [
        ""
      ],
      "execution_count": null,
      "outputs": []
    },
    {
      "cell_type": "markdown",
      "metadata": {
        "id": "CWheAgIQwzms",
        "colab_type": "text"
      },
      "source": [
        "## math.radians\n",
        "\n",
        "Recibe un valor x como argumento, en grados, y regresa ese valor en radianes"
      ]
    },
    {
      "cell_type": "code",
      "metadata": {
        "id": "8-dxFO41w2nw",
        "colab_type": "code",
        "colab": {}
      },
      "source": [
        ""
      ],
      "execution_count": null,
      "outputs": []
    },
    {
      "cell_type": "markdown",
      "metadata": {
        "id": "OugjPi1uw5mS",
        "colab_type": "text"
      },
      "source": [
        "# Funciones hiperbólicas"
      ]
    },
    {
      "cell_type": "markdown",
      "metadata": {
        "id": "KJBjpeXVxFAh",
        "colab_type": "text"
      },
      "source": [
        "## math.acosh, math.asinh, math.atanh\n",
        "\n",
        "Estas funciones toman como argumento un valor x en radianes, y te regresan el coseno hiperbólico inverso, el seno hiperbólico inverso, y la tangente hiperbólica inversa de x respectivamente"
      ]
    },
    {
      "cell_type": "code",
      "metadata": {
        "id": "zD0cxPvbxB8y",
        "colab_type": "code",
        "colab": {}
      },
      "source": [
        ""
      ],
      "execution_count": null,
      "outputs": []
    },
    {
      "cell_type": "markdown",
      "metadata": {
        "id": "XzQeqn96xnRe",
        "colab_type": "text"
      },
      "source": [
        "## math.cosh, math.sinh, math.tanh\n",
        "\n",
        "Estas funciones toman como argumento un valor x en radianes, y te regresan el coseno hiperbólico, el seno hiperbólico y la tangente hiperbólica de x respectivamente."
      ]
    },
    {
      "cell_type": "code",
      "metadata": {
        "id": "-9GEN2IUyHcj",
        "colab_type": "code",
        "colab": {}
      },
      "source": [
        ""
      ],
      "execution_count": null,
      "outputs": []
    },
    {
      "cell_type": "markdown",
      "metadata": {
        "id": "OuuscHKpyJoN",
        "colab_type": "text"
      },
      "source": [
        "# Funciones especiales"
      ]
    },
    {
      "cell_type": "markdown",
      "metadata": {
        "id": "KswhBNYLyL4l",
        "colab_type": "text"
      },
      "source": [
        "## math.erf\n",
        "\n",
        "Esta función toma como argumento un valor x, y te regresa la función error evaluada en x, siendo la función error:\n",
        "\n",
        "\n",
        "<img src=\"https://lh3.googleusercontent.com/proxy/dJpPPpvlfBmNZre_dIhpMTu8Y2wwL4iRY-XJO3F6TuHF0P4qlMfUmBx3sOXXuDIhdJrWgDp87mBjFyiUEkNYyj8YAZexnhu-XkDXLaeSEgS48No\" alt=\"Drawing\" width=\"30%\"/> \\\\\n"
      ]
    },
    {
      "cell_type": "code",
      "metadata": {
        "id": "mDN--85Gyk2G",
        "colab_type": "code",
        "colab": {}
      },
      "source": [
        ""
      ],
      "execution_count": null,
      "outputs": []
    },
    {
      "cell_type": "markdown",
      "metadata": {
        "id": "DSEtSG5ry0sy",
        "colab_type": "text"
      },
      "source": [
        "## math.erfc\n",
        "\n",
        "Esta función toma como argumento un valor x, y te regresa la función error complamentaria evaluada en x, siendo esta:\n",
        "\n",
        "<img src=\"data:image/png;base64,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\" alt=\"Drawing\" width=\"30%\"/> \\\\"
      ]
    },
    {
      "cell_type": "code",
      "metadata": {
        "id": "XkKO4AywzL17",
        "colab_type": "code",
        "colab": {}
      },
      "source": [
        ""
      ],
      "execution_count": null,
      "outputs": []
    },
    {
      "cell_type": "markdown",
      "metadata": {
        "id": "CoEh1a9FzOKl",
        "colab_type": "text"
      },
      "source": [
        "## math.gamma\n",
        "\n",
        "Esta función toma como argumento un valor x, y te regresa la función gamma evaluada en x, siendo la función gamma:\n",
        "\n",
        "<img src=\"https://i.ytimg.com/vi/bycH8aNt9e8/maxresdefault.jpg\" alt=\"Drawing\" width=\"70%\"/> \\\\"
      ]
    },
    {
      "cell_type": "code",
      "metadata": {
        "id": "gWaVDCccznXn",
        "colab_type": "code",
        "colab": {}
      },
      "source": [
        ""
      ],
      "execution_count": null,
      "outputs": []
    },
    {
      "cell_type": "markdown",
      "metadata": {
        "id": "2toaf19Yzu-9",
        "colab_type": "text"
      },
      "source": [
        "## math.lgama\n",
        "\n",
        "Esta función toma como argumento un valor x, y regresa el algoritmo natural del valor absoluto de la función gamma evaluada en x."
      ]
    },
    {
      "cell_type": "code",
      "metadata": {
        "id": "spmu5_lUz2Yp",
        "colab_type": "code",
        "colab": {}
      },
      "source": [
        ""
      ],
      "execution_count": null,
      "outputs": []
    },
    {
      "cell_type": "markdown",
      "metadata": {
        "id": "9pBG8OLUz4V8",
        "colab_type": "text"
      },
      "source": [
        "# Constantes"
      ]
    },
    {
      "cell_type": "markdown",
      "metadata": {
        "id": "mG9SZIn6z5hP",
        "colab_type": "text"
      },
      "source": [
        "## math.pi, math.e\n",
        "\n",
        "Regresa el número pi y el número de euler"
      ]
    },
    {
      "cell_type": "code",
      "metadata": {
        "id": "29QKE-cc0B7Q",
        "colab_type": "code",
        "colab": {}
      },
      "source": [
        ""
      ],
      "execution_count": null,
      "outputs": []
    },
    {
      "cell_type": "markdown",
      "metadata": {
        "id": "TK2irV-f0Cni",
        "colab_type": "text"
      },
      "source": [
        "## math.tau\n",
        "\n",
        "Regresa la constante numérica tau, que es equivalente a 2pi"
      ]
    },
    {
      "cell_type": "code",
      "metadata": {
        "id": "UdmBCi5S0L89",
        "colab_type": "code",
        "colab": {}
      },
      "source": [
        ""
      ],
      "execution_count": null,
      "outputs": []
    },
    {
      "cell_type": "markdown",
      "metadata": {
        "id": "ZfabQ3HO0Ny_",
        "colab_type": "text"
      },
      "source": [
        "## math.inf\n",
        "\n",
        "Regresa un infinito positivo de punto flotante"
      ]
    },
    {
      "cell_type": "code",
      "metadata": {
        "id": "Otv3obJo0RJT",
        "colab_type": "code",
        "colab": {}
      },
      "source": [
        ""
      ],
      "execution_count": null,
      "outputs": []
    },
    {
      "cell_type": "markdown",
      "metadata": {
        "id": "mcSCYCml0Ri0",
        "colab_type": "text"
      },
      "source": [
        "## math.nan\n",
        "\n",
        "Regresa un valor NaN (not a number) de punto flotante "
      ]
    },
    {
      "cell_type": "code",
      "metadata": {
        "id": "RfIlyc420Wpr",
        "colab_type": "code",
        "colab": {}
      },
      "source": [
        ""
      ],
      "execution_count": null,
      "outputs": []
    },
    {
      "cell_type": "markdown",
      "metadata": {
        "id": "KLlyT0lf0hx5",
        "colab_type": "text"
      },
      "source": [
        "# Funciones logarítmicas y exponenciales"
      ]
    },
    {
      "cell_type": "markdown",
      "metadata": {
        "id": "4HSUhHz-0kmC",
        "colab_type": "text"
      },
      "source": [
        "## math.exp\n",
        "\n",
        "Esta función toma como argumento un número x, y regresa el número de euler evaluado a la x."
      ]
    },
    {
      "cell_type": "code",
      "metadata": {
        "id": "wdJDeDLM0rVo",
        "colab_type": "code",
        "colab": {}
      },
      "source": [
        ""
      ],
      "execution_count": null,
      "outputs": []
    },
    {
      "cell_type": "markdown",
      "metadata": {
        "id": "Z2wGFR9M0rn0",
        "colab_type": "text"
      },
      "source": [
        "## math.expm1\n",
        "\n",
        "Esta función toma como argumento un número x, y regresa el número de euler evaluado a la x-1. Esto sirve para evitar pérdidas de precisión en números pequeños"
      ]
    },
    {
      "cell_type": "code",
      "metadata": {
        "id": "l5OhF4hE0wyp",
        "colab_type": "code",
        "colab": {}
      },
      "source": [
        ""
      ],
      "execution_count": null,
      "outputs": []
    },
    {
      "cell_type": "markdown",
      "metadata": {
        "id": "ZcNU14tB0x-i",
        "colab_type": "text"
      },
      "source": [
        "## math.log\n",
        "\n",
        "Esta función toma uno o dos argumentos. \n",
        "\n",
        "Con un argumento x, regresa el logaritmo natural de x.\n",
        "\n",
        "Con dos argumentos, x & y, regresa el logaritmo de x base y"
      ]
    },
    {
      "cell_type": "code",
      "metadata": {
        "id": "6mwTkwsV0-kt",
        "colab_type": "code",
        "colab": {}
      },
      "source": [
        ""
      ],
      "execution_count": null,
      "outputs": []
    },
    {
      "cell_type": "markdown",
      "metadata": {
        "id": "aF_dU04Y0_K7",
        "colab_type": "text"
      },
      "source": [
        "## math.log1p\n",
        "\n",
        "Esta función toma como argumento un número x, y regresa el logaritmo natural de (1+x). Esto sirve para valores de x cercanos a 0."
      ]
    },
    {
      "cell_type": "code",
      "metadata": {
        "id": "IAL4jTDu1TP9",
        "colab_type": "code",
        "colab": {}
      },
      "source": [
        ""
      ],
      "execution_count": null,
      "outputs": []
    },
    {
      "cell_type": "markdown",
      "metadata": {
        "id": "8n6YN98Z1T5z",
        "colab_type": "text"
      },
      "source": [
        "## math.log2\n",
        "\n",
        "Esta función toma como argumento un número x, y regresa el logaritmo de x en base 2. Es más preciso que math.log(x,2)"
      ]
    },
    {
      "cell_type": "code",
      "metadata": {
        "id": "WTTfL3mD1Zrp",
        "colab_type": "code",
        "colab": {}
      },
      "source": [
        ""
      ],
      "execution_count": null,
      "outputs": []
    },
    {
      "cell_type": "markdown",
      "metadata": {
        "id": "farVBYx61aFN",
        "colab_type": "text"
      },
      "source": [
        "## math.log10\n",
        "\n",
        "Esta función toma como argumento un número x, y regresa el logaritmo base 10 de x. Es más preciso que math.log(x,10)"
      ]
    },
    {
      "cell_type": "code",
      "metadata": {
        "id": "lgob-OGi1hqe",
        "colab_type": "code",
        "colab": {}
      },
      "source": [
        ""
      ],
      "execution_count": null,
      "outputs": []
    },
    {
      "cell_type": "markdown",
      "metadata": {
        "id": "iHKS6gaI1jTG",
        "colab_type": "text"
      },
      "source": [
        "## math.pow\n",
        "\n",
        "Esta función toma como argumento dos números, x & y, y regresa a x elevado a la y."
      ]
    },
    {
      "cell_type": "code",
      "metadata": {
        "id": "snexCOe11szT",
        "colab_type": "code",
        "colab": {}
      },
      "source": [
        ""
      ],
      "execution_count": null,
      "outputs": []
    },
    {
      "cell_type": "markdown",
      "metadata": {
        "id": "Aw-_60Ex12OC",
        "colab_type": "text"
      },
      "source": [
        "## math.sqrt\n",
        "\n",
        "Esta función toma como argumento un número x, y regresa la raiz cuadrada de x."
      ]
    },
    {
      "cell_type": "code",
      "metadata": {
        "id": "xcs0OzXU15mm",
        "colab_type": "code",
        "colab": {}
      },
      "source": [
        ""
      ],
      "execution_count": null,
      "outputs": []
    }
  ]
}